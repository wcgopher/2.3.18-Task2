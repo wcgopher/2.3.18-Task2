{
 "cells": [
  {
   "cell_type": "code",
   "execution_count": 62,
   "metadata": {},
   "outputs": [],
   "source": [
    "def encode():\n",
    "    user_input = input('Enter a string of text: ')\n",
    "    output_string = ''\n",
    "    for c in user_input:\n",
    "        if c == 'z':\n",
    "            output_string += 'a'\n",
    "            continue\n",
    "        if c == ' ':\n",
    "            output_string += ' '\n",
    "            continue\n",
    "        output_string += (chr(ord(c)+1))\n",
    "    return output_string\n",
    "\n",
    "def decode():\n",
    "    user_input = input('Enter a string of text: ')\n",
    "    output_string = ''\n",
    "    for c in user_input:\n",
    "        if c == 'a':\n",
    "            output_string += 'z'\n",
    "            continue\n",
    "        if c == ' ':\n",
    "            output_string += ' '\n",
    "            continue\n",
    "        output_string += (chr(ord(c)-1))\n",
    "    return output_string"
   ]
  },
  {
   "cell_type": "code",
   "execution_count": 63,
   "metadata": {},
   "outputs": [
    {
     "name": "stdout",
     "output_type": "stream",
     "text": [
      "Enter a string of text: the brown fox jumped over the lazy dog\n"
     ]
    },
    {
     "data": {
      "text/plain": [
       "'uif cspxo gpy kvnqfe pwfs uif mbaz eph'"
      ]
     },
     "execution_count": 63,
     "metadata": {},
     "output_type": "execute_result"
    }
   ],
   "source": [
    "encode()"
   ]
  },
  {
   "cell_type": "code",
   "execution_count": 64,
   "metadata": {},
   "outputs": [
    {
     "name": "stdout",
     "output_type": "stream",
     "text": [
      "Enter a string of text: uif cspxo gpy kvnqfe pwfs uif mbaz eph\n"
     ]
    },
    {
     "data": {
      "text/plain": [
       "'the brown fox jumped over the lazy dog'"
      ]
     },
     "execution_count": 64,
     "metadata": {},
     "output_type": "execute_result"
    }
   ],
   "source": [
    "decode()"
   ]
  },
  {
   "cell_type": "code",
   "execution_count": 27,
   "metadata": {},
   "outputs": [
    {
     "data": {
      "text/plain": [
       "106"
      ]
     },
     "execution_count": 27,
     "metadata": {},
     "output_type": "execute_result"
    }
   ],
   "source": [
    "ord('i') +1"
   ]
  },
  {
   "cell_type": "code",
   "execution_count": 29,
   "metadata": {},
   "outputs": [
    {
     "data": {
      "text/plain": [
       "'d'"
      ]
     },
     "execution_count": 29,
     "metadata": {},
     "output_type": "execute_result"
    }
   ],
   "source": [
    "chr(100)"
   ]
  },
  {
   "cell_type": "code",
   "execution_count": null,
   "metadata": {
    "collapsed": true
   },
   "outputs": [],
   "source": []
  }
 ],
 "metadata": {
  "kernelspec": {
   "display_name": "Python 3",
   "language": "python",
   "name": "python3"
  },
  "language_info": {
   "codemirror_mode": {
    "name": "ipython",
    "version": 3
   },
   "file_extension": ".py",
   "mimetype": "text/x-python",
   "name": "python",
   "nbconvert_exporter": "python",
   "pygments_lexer": "ipython3",
   "version": "3.6.3"
  }
 },
 "nbformat": 4,
 "nbformat_minor": 2
}
