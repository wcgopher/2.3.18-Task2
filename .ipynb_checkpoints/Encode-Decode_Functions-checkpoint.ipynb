{
 "cells": [
  {
   "cell_type": "code",
   "execution_count": 62,
   "metadata": {},
   "outputs": [],
   "source": [
    "def encode():\n",
    "    user_input = input('Enter a string of text: ')\n",
    "    output_string = ''\n",
    "    for c in user_input:\n",
    "        if c == 'z':\n",
    "            output_string += 'a'\n",
    "            continue\n",
    "        if c == ' ':\n",
    "            output_string += ' '\n",
    "            continue\n",
    "        output_string += (chr(ord(c)+1))\n",
    "    return output_string\n",
    "\n",
    "def decode():\n",
    "    user_input = input('Enter a string of text: ')\n",
    "    output_string = ''\n",
    "    for c in user_input:\n",
    "        if c == 'a':\n",
    "            output_string += 'z'\n",
    "            continue\n",
    "        if c == ' ':\n",
    "            output_string += ' '\n",
    "            continue\n",
    "        output_string += (chr(ord(c)-1))\n",
    "    return output_string"
   ]
  },
  {
   "cell_type": "code",
   "execution_count": 63,
   "metadata": {},
   "outputs": [
    {
     "name": "stdout",
     "output_type": "stream",
     "text": [
      "Enter a string of text: the brown fox jumped over the lazy dog\n"
     ]
    },
    {
     "data": {
      "text/plain": [
       "'uif cspxo gpy kvnqfe pwfs uif mbaz eph'"
      ]
     },
     "execution_count": 63,
     "metadata": {},
     "output_type": "execute_result"
    }
   ],
   "source": [
    "encode()"
   ]
  },
  {
   "cell_type": "code",
   "execution_count": 64,
   "metadata": {},
   "outputs": [
    {
     "name": "stdout",
     "output_type": "stream",
     "text": [
      "Enter a string of text: uif cspxo gpy kvnqfe pwfs uif mbaz eph\n"
     ]
    },
    {
     "data": {
      "text/plain": [
       "'the brown fox jumped over the lazy dog'"
      ]
     },
     "execution_count": 64,
     "metadata": {},
     "output_type": "execute_result"
    }
   ],
   "source": [
    "decode()"
   ]
  },
  {
   "cell_type": "code",
   "execution_count": 68,
   "metadata": {},
   "outputs": [],
   "source": [
    "text = open(\"/Users/willhall/Documents/SampleFile.txt\")\n",
    "read_text = text.read()\n",
    "encode()"
   ]
  },
  {
   "cell_type": "code",
   "execution_count": 69,
   "metadata": {},
   "outputs": [
    {
     "data": {
      "text/plain": [
       "'Pyclass\\nIn 2001, I remember Boston fans (myself included) hitting rock bottom after 15 years of bad sports luck that started with Mookie’s grounder and turned into something of a sports-depression free fall.'"
      ]
     },
     "execution_count": 69,
     "metadata": {},
     "output_type": "execute_result"
    }
   ],
   "source": [
    "read_text"
   ]
  },
  {
   "cell_type": "code",
   "execution_count": 78,
   "metadata": {
    "collapsed": true
   },
   "outputs": [],
   "source": [
    "text = open(\"/Users/willhall/Documents/SampleFile.txt\")\n",
    "read_text = text.read()\n",
    "def encode_txt(user_input = read_text):\n",
    "    output_string = ''\n",
    "    for c in user_input:\n",
    "        if c == 'z':\n",
    "            output_string += 'a'\n",
    "            continue\n",
    "        if c == ' ':\n",
    "            output_string += ' '\n",
    "            continue\n",
    "        output_string += (chr(ord(c)+1))\n",
    "    return output_string\n",
    "\n",
    "def decode_txt(user_input = read_text):\n",
    "    output_string = ''\n",
    "    for c in user_input:\n",
    "        if c == 'a':\n",
    "            output_string += 'z'\n",
    "            continue\n",
    "        if c == ' ':\n",
    "            output_string += ' '\n",
    "            continue\n",
    "        output_string += (chr(ord(c)-1))\n",
    "    return output_string"
   ]
  },
  {
   "cell_type": "code",
   "execution_count": 79,
   "metadata": {},
   "outputs": [],
   "source": [
    "scramble = encode_txt()"
   ]
  },
  {
   "cell_type": "code",
   "execution_count": 80,
   "metadata": {},
   "outputs": [
    {
     "data": {
      "text/plain": [
       "'Pyclass\\nIn 2001, I remember Boston fans (myself included) hitting rock bottom after 15 years of bad sports luck that started with Mookie’s grounder and turned into something of a sports-depression free fall.'"
      ]
     },
     "execution_count": 80,
     "metadata": {},
     "output_type": "execute_result"
    }
   ],
   "source": [
    "decode_txt(user_input = scramble)"
   ]
  },
  {
   "cell_type": "code",
   "execution_count": null,
   "metadata": {
    "collapsed": true
   },
   "outputs": [],
   "source": []
  }
 ],
 "metadata": {
  "kernelspec": {
   "display_name": "Python 3",
   "language": "python",
   "name": "python3"
  },
  "language_info": {
   "codemirror_mode": {
    "name": "ipython",
    "version": 3
   },
   "file_extension": ".py",
   "mimetype": "text/x-python",
   "name": "python",
   "nbconvert_exporter": "python",
   "pygments_lexer": "ipython3",
   "version": "3.6.3"
  }
 },
 "nbformat": 4,
 "nbformat_minor": 2
}
